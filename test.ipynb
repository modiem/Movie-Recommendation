{
 "cells": [
  {
   "cell_type": "code",
   "execution_count": 1,
   "metadata": {},
   "outputs": [],
   "source": [
    "%load_ext autoreload\n",
    "%autoreload 2"
   ]
  },
  {
   "cell_type": "code",
   "execution_count": 6,
   "metadata": {},
   "outputs": [],
   "source": [
    "from MovieRecommendation import gcp"
   ]
  },
  {
   "cell_type": "code",
   "execution_count": 10,
   "metadata": {
    "collapsed": true
   },
   "outputs": [
    {
     "name": "stdout",
     "output_type": "stream",
     "text": [
      "metadata matrix saved.\n",
      "rating matrix saved.\n"
     ]
    },
    {
     "data": {
      "text/plain": [
       "{'metadata':                                                  0         1         2   \\\n",
       " Toy Story (1995)                           0.102057  0.082978  0.069335   \n",
       " Jumanji (1995)                             0.032439  0.008862  0.058857   \n",
       " Grumpier Old Men (1995)                    0.148065  0.105199 -0.043035   \n",
       " Waiting to Exhale (1995)                   0.826327  0.065701 -0.292544   \n",
       " Father of the Bride Part II (1995)         0.112884  0.121158 -0.006244   \n",
       " ...                                             ...       ...       ...   \n",
       " Black Butler: Book of the Atlantic (2017)  0.328795  0.223063  0.299261   \n",
       " No Game No Life: Zero (2017)               0.296315  0.276134  0.097567   \n",
       " Flint (2017)                               0.634471 -0.666045 -0.296815   \n",
       " Bungo Stray Dogs: Dead Apple (2018)        0.113148 -0.011226  0.338446   \n",
       " Andrew Dice Clay: Dice Rules (1991)        0.658402  0.708755 -0.037575   \n",
       " \n",
       "                                                  3         4         5   \\\n",
       " Toy Story (1995)                           0.079509 -0.158595  0.010457   \n",
       " Jumanji (1995)                             0.083238 -0.113069  0.006432   \n",
       " Grumpier Old Men (1995)                    0.129036  0.089151 -0.036802   \n",
       " Waiting to Exhale (1995)                   0.395697  0.244308 -0.073107   \n",
       " Father of the Bride Part II (1995)        -0.037840 -0.004575  0.009908   \n",
       " ...                                             ...       ...       ...   \n",
       " Black Butler: Book of the Atlantic (2017)  0.134594 -0.341038 -0.100190   \n",
       " No Game No Life: Zero (2017)               0.092715 -0.237126  0.056310   \n",
       " Flint (2017)                              -0.141003 -0.159669  0.125312   \n",
       " Bungo Stray Dogs: Dead Apple (2018)        0.153608 -0.322290 -0.186237   \n",
       " Andrew Dice Clay: Dice Rules (1991)       -0.223219 -0.030538  0.056668   \n",
       " \n",
       "                                                  6         7         8   \\\n",
       " Toy Story (1995)                           0.236075 -0.009400 -0.122104   \n",
       " Jumanji (1995)                             0.189288 -0.006319 -0.075254   \n",
       " Grumpier Old Men (1995)                   -0.011756  0.000640  0.004622   \n",
       " Waiting to Exhale (1995)                  -0.045514 -0.000915  0.027719   \n",
       " Father of the Bride Part II (1995)        -0.009223 -0.002305  0.003880   \n",
       " ...                                             ...       ...       ...   \n",
       " Black Butler: Book of the Atlantic (2017)  0.314460 -0.016044  0.045904   \n",
       " No Game No Life: Zero (2017)               0.403863 -0.017999 -0.240101   \n",
       " Flint (2017)                              -0.007500 -0.006856  0.024010   \n",
       " Bungo Stray Dogs: Dead Apple (2018)        0.176712 -0.007477  0.143238   \n",
       " Andrew Dice Clay: Dice Rules (1991)       -0.056495 -0.013254  0.022382   \n",
       " \n",
       "                                                  9   ...        15        16  \\\n",
       " Toy Story (1995)                          -0.007205  ... -0.012900 -0.000725   \n",
       " Jumanji (1995)                             0.002481  ...  0.077778 -0.001023   \n",
       " Grumpier Old Men (1995)                   -0.002389  ...  0.003114 -0.000981   \n",
       " Waiting to Exhale (1995)                  -0.001197  ...  0.012878 -0.005151   \n",
       " Father of the Bride Part II (1995)        -0.011430  ... -0.001814 -0.000524   \n",
       " ...                                             ...  ...       ...       ...   \n",
       " Black Butler: Book of the Atlantic (2017)  0.079411  ... -0.359927  0.011187   \n",
       " No Game No Life: Zero (2017)               0.017182  ... -0.433131  0.017591   \n",
       " Flint (2017)                               0.015715  ...  0.003838 -0.003574   \n",
       " Bungo Stray Dogs: Dead Apple (2018)        0.098628  ... -0.463458  0.006346   \n",
       " Andrew Dice Clay: Dice Rules (1991)       -0.062685  ... -0.011341 -0.001778   \n",
       " \n",
       "                                                  17        18        19  \\\n",
       " Toy Story (1995)                          -0.001497 -0.014337 -0.000455   \n",
       " Jumanji (1995)                            -0.000067 -0.008733  0.000022   \n",
       " Grumpier Old Men (1995)                   -0.000730  0.000572  0.000090   \n",
       " Waiting to Exhale (1995)                  -0.006726  0.002409 -0.000168   \n",
       " Father of the Bride Part II (1995)        -0.000250  0.000485  0.000216   \n",
       " ...                                             ...       ...       ...   \n",
       " Black Butler: Book of the Atlantic (2017) -0.004357 -0.042689  0.001864   \n",
       " No Game No Life: Zero (2017)              -0.006856 -0.036130 -0.002040   \n",
       " Flint (2017)                              -0.008873  0.000841 -0.001036   \n",
       " Bungo Stray Dogs: Dead Apple (2018)       -0.004429 -0.031930  0.001815   \n",
       " Andrew Dice Clay: Dice Rules (1991)       -0.000728  0.003161  0.001860   \n",
       " \n",
       "                                                      20        21        22  \\\n",
       " Toy Story (1995)                           7.683188e-06  0.000498  0.001523   \n",
       " Jumanji (1995)                            -8.212691e-07 -0.000344  0.003193   \n",
       " Grumpier Old Men (1995)                   -1.692783e-06  0.000041 -0.000370   \n",
       " Waiting to Exhale (1995)                  -6.123200e-06 -0.000830 -0.001249   \n",
       " Father of the Bride Part II (1995)        -7.303481e-07  0.044506  0.000045   \n",
       " ...                                                 ...       ...       ...   \n",
       " Black Butler: Book of the Atlantic (2017) -2.815040e-07 -0.000270 -0.000569   \n",
       " No Game No Life: Zero (2017)              -2.293887e-06 -0.000618 -0.000780   \n",
       " Flint (2017)                              -4.896279e-07 -0.002043 -0.000085   \n",
       " Bungo Stray Dogs: Dead Apple (2018)        2.527381e-06  0.000566  0.000247   \n",
       " Andrew Dice Clay: Dice Rules (1991)       -4.835742e-06 -0.000404 -0.000958   \n",
       " \n",
       "                                                  23            24  \n",
       " Toy Story (1995)                           0.003049  3.808858e-04  \n",
       " Jumanji (1995)                             0.000168  9.764093e-07  \n",
       " Grumpier Old Men (1995)                   -0.000193 -3.689707e-04  \n",
       " Waiting to Exhale (1995)                  -0.000960 -1.620491e-03  \n",
       " Father of the Bride Part II (1995)        -0.017100  7.116062e-05  \n",
       " ...                                             ...           ...  \n",
       " Black Butler: Book of the Atlantic (2017)  0.000365  1.503521e-04  \n",
       " No Game No Life: Zero (2017)               0.000375  1.818285e-04  \n",
       " Flint (2017)                              -0.000704 -9.050372e-04  \n",
       " Bungo Stray Dogs: Dead Apple (2018)       -0.000121  2.727549e-05  \n",
       " Andrew Dice Clay: Dice Rules (1991)       -0.000335 -1.100161e-04  \n",
       " \n",
       " [9724 rows x 25 columns],\n",
       " 'rating':                                                  0         1          2    \\\n",
       " Toy Story (1995)                           37.649828 -6.380094  14.994617   \n",
       " Jumanji (1995)                             20.596193 -0.477880  10.865916   \n",
       " Grumpier Old Men (1995)                     8.504182 -5.714924   3.441693   \n",
       " Waiting to Exhale (1995)                    0.465720 -0.828101   0.954583   \n",
       " Father of the Bride Part II (1995)          6.071045 -2.673536   4.698195   \n",
       " ...                                              ...       ...        ...   \n",
       " Black Butler: Book of the Atlantic (2017)   0.039507  0.157924  -0.019030   \n",
       " No Game No Life: Zero (2017)                0.034568  0.138184  -0.016651   \n",
       " Flint (2017)                                0.034568  0.138184  -0.016651   \n",
       " Bungo Stray Dogs: Dead Apple (2018)         0.034568  0.138184  -0.016651   \n",
       " Andrew Dice Clay: Dice Rules (1991)         0.145218  0.294217   0.023480   \n",
       " \n",
       "                                                 3         4         5    \\\n",
       " Toy Story (1995)                           0.286947 -1.887147  4.790048   \n",
       " Jumanji (1995)                            -8.635796 -3.072412 -0.517148   \n",
       " Grumpier Old Men (1995)                   -6.382810  0.024162 -0.783433   \n",
       " Waiting to Exhale (1995)                  -0.239080 -0.735695 -0.877414   \n",
       " Father of the Bride Part II (1995)        -4.415807 -3.714221 -1.673627   \n",
       " ...                                             ...       ...       ...   \n",
       " Black Butler: Book of the Atlantic (2017)  0.009546  0.024836 -0.164104   \n",
       " No Game No Life: Zero (2017)               0.008353  0.021731 -0.143591   \n",
       " Flint (2017)                               0.008353  0.021731 -0.143591   \n",
       " Bungo Stray Dogs: Dead Apple (2018)        0.008353  0.021731 -0.143591   \n",
       " Andrew Dice Clay: Dice Rules (1991)        0.152458 -0.112235 -0.074776   \n",
       " \n",
       "                                                 6         7         8    \\\n",
       " Toy Story (1995)                           8.807632 -2.198639  1.153304   \n",
       " Jumanji (1995)                             4.359215 -3.821409 -3.394115   \n",
       " Grumpier Old Men (1995)                   -1.423026 -0.542294  3.270654   \n",
       " Waiting to Exhale (1995)                   0.214720 -0.527367  0.079466   \n",
       " Father of the Bride Part II (1995)         1.297654 -1.308024  1.325735   \n",
       " ...                                             ...       ...       ...   \n",
       " Black Butler: Book of the Atlantic (2017)  0.182754  0.071142  0.009693   \n",
       " No Game No Life: Zero (2017)               0.159909  0.062249  0.008481   \n",
       " Flint (2017)                               0.159909  0.062249  0.008481   \n",
       " Bungo Stray Dogs: Dead Apple (2018)        0.159909  0.062249  0.008481   \n",
       " Andrew Dice Clay: Dice Rules (1991)       -0.052984  0.047929  0.078116   \n",
       " \n",
       "                                                 9    ...       190       191  \\\n",
       " Toy Story (1995)                           1.387546  ... -3.522160  0.856457   \n",
       " Jumanji (1995)                             0.236514  ...  0.424401 -0.397313   \n",
       " Grumpier Old Men (1995)                    1.897245  ...  0.280174  0.019217   \n",
       " Waiting to Exhale (1995)                   0.015619  ...  0.051806  0.141369   \n",
       " Father of the Bride Part II (1995)         1.229593  ... -0.116222 -0.027372   \n",
       " ...                                             ...  ...       ...       ...   \n",
       " Black Butler: Book of the Atlantic (2017) -0.046208  ... -0.220684  1.270559   \n",
       " No Game No Life: Zero (2017)              -0.040432  ... -0.193098  1.111739   \n",
       " Flint (2017)                              -0.040432  ... -0.193098  1.111739   \n",
       " Bungo Stray Dogs: Dead Apple (2018)       -0.040432  ... -0.193098  1.111739   \n",
       " Andrew Dice Clay: Dice Rules (1991)        0.134063  ... -0.533982 -0.092240   \n",
       " \n",
       "                                                 192       193       194  \\\n",
       " Toy Story (1995)                          -1.391497 -2.985344  2.044513   \n",
       " Jumanji (1995)                            -0.423816  0.494494  1.100624   \n",
       " Grumpier Old Men (1995)                   -0.584577  1.852055 -0.426346   \n",
       " Waiting to Exhale (1995)                  -0.105821 -0.135976 -0.427650   \n",
       " Father of the Bride Part II (1995)         0.189958  0.044210  0.289610   \n",
       " ...                                             ...       ...       ...   \n",
       " Black Butler: Book of the Atlantic (2017)  0.482662 -0.216965  0.264586   \n",
       " No Game No Life: Zero (2017)               0.422329 -0.189844  0.231513   \n",
       " Flint (2017)                               0.422329 -0.189844  0.231513   \n",
       " Bungo Stray Dogs: Dead Apple (2018)        0.422329 -0.189844  0.231513   \n",
       " Andrew Dice Clay: Dice Rules (1991)       -0.090758 -0.607542 -0.321165   \n",
       " \n",
       "                                                 195       196       197  \\\n",
       " Toy Story (1995)                          -0.970615  1.554680 -0.287923   \n",
       " Jumanji (1995)                             1.798082 -0.107605  0.468603   \n",
       " Grumpier Old Men (1995)                    0.323489 -0.349079  0.895902   \n",
       " Waiting to Exhale (1995)                   0.211301  0.102367 -0.121805   \n",
       " Father of the Bride Part II (1995)        -0.042737 -0.550610 -0.844858   \n",
       " ...                                             ...       ...       ...   \n",
       " Black Butler: Book of the Atlantic (2017) -0.150014  0.245920  0.089264   \n",
       " No Game No Life: Zero (2017)              -0.131263  0.215180  0.078106   \n",
       " Flint (2017)                              -0.131263  0.215180  0.078106   \n",
       " Bungo Stray Dogs: Dead Apple (2018)       -0.131263  0.215180  0.078106   \n",
       " Andrew Dice Clay: Dice Rules (1991)        0.317305  0.622516 -0.021103   \n",
       " \n",
       "                                                 198       199  \n",
       " Toy Story (1995)                          -1.278985 -0.315836  \n",
       " Jumanji (1995)                            -0.944497 -1.426068  \n",
       " Grumpier Old Men (1995)                    1.071776  0.215983  \n",
       " Waiting to Exhale (1995)                  -0.178400 -0.297690  \n",
       " Father of the Bride Part II (1995)        -0.449421 -0.142763  \n",
       " ...                                             ...       ...  \n",
       " Black Butler: Book of the Atlantic (2017) -0.129061  0.148648  \n",
       " No Game No Life: Zero (2017)              -0.112929  0.130067  \n",
       " Flint (2017)                              -0.112929  0.130067  \n",
       " Bungo Stray Dogs: Dead Apple (2018)       -0.112929  0.130067  \n",
       " Andrew Dice Clay: Dice Rules (1991)       -0.169959  0.464173  \n",
       " \n",
       " [9724 rows x 200 columns]}"
      ]
     },
     "execution_count": 10,
     "metadata": {},
     "output_type": "execute_result"
    }
   ],
   "source": [
    "gcp.download_matrix()"
   ]
  },
  {
   "cell_type": "code",
   "execution_count": 12,
   "metadata": {},
   "outputs": [],
   "source": [
    "from MovieRecommendation.recommender import Recommender"
   ]
  },
  {
   "cell_type": "code",
   "execution_count": 42,
   "metadata": {},
   "outputs": [],
   "source": [
    "sample = Recommender(\"Toy Story (1995)\", hybrid=False, benchmark=\"rating\", n_movies=4)"
   ]
  },
  {
   "cell_type": "code",
   "execution_count": 43,
   "metadata": {},
   "outputs": [
    {
     "name": "stdout",
     "output_type": "stream",
     "text": [
      "rating matrix saved.\n",
      "rating matrix cleaned.\n",
      "get latent df\n",
      "tto\n"
     ]
    }
   ],
   "source": [
    "recommendations = sample.get_recommendation()"
   ]
  },
  {
   "cell_type": "code",
   "execution_count": 44,
   "metadata": {},
   "outputs": [
    {
     "data": {
      "text/plain": [
       "Toy Story 2 (1999)                      0.644165\n",
       "Independence Day (a.k.a. ID4) (1996)    0.625561\n",
       "Jurassic Park (1993)                    0.616738\n",
       "Mission: Impossible (1996)              0.602735\n",
       "Name: rating_similarity, dtype: float64"
      ]
     },
     "execution_count": 44,
     "metadata": {},
     "output_type": "execute_result"
    }
   ],
   "source": [
    "recommendations"
   ]
  },
  {
   "cell_type": "code",
   "execution_count": null,
   "metadata": {},
   "outputs": [],
   "source": []
  }
 ],
 "metadata": {
  "kernelspec": {
   "display_name": "Python 3",
   "language": "python",
   "name": "python3"
  },
  "language_info": {
   "codemirror_mode": {
    "name": "ipython",
    "version": 3
   },
   "file_extension": ".py",
   "mimetype": "text/x-python",
   "name": "python",
   "nbconvert_exporter": "python",
   "pygments_lexer": "ipython3",
   "version": "3.7.3"
  },
  "toc": {
   "base_numbering": 1,
   "nav_menu": {},
   "number_sections": true,
   "sideBar": true,
   "skip_h1_title": true,
   "title_cell": "Table of Contents",
   "title_sidebar": "Contents",
   "toc_cell": false,
   "toc_position": {},
   "toc_section_display": true,
   "toc_window_display": true
  }
 },
 "nbformat": 4,
 "nbformat_minor": 4
}
