{
 "cells": [
  {
   "cell_type": "code",
   "execution_count": 2,
   "metadata": {},
   "outputs": [],
   "source": [
    "%load_ext autoreload\n",
    "%autoreload 2"
   ]
  },
  {
   "cell_type": "markdown",
   "metadata": {
    "heading_collapsed": true
   },
   "source": [
    "## Test gcp.py"
   ]
  },
  {
   "cell_type": "code",
   "execution_count": 22,
   "metadata": {
    "hidden": true
   },
   "outputs": [],
   "source": [
    "from MovieRecommendation import gcp"
   ]
  },
  {
   "cell_type": "code",
   "execution_count": 53,
   "metadata": {
    "hidden": true
   },
   "outputs": [
    {
     "name": "stdout",
     "output_type": "stream",
     "text": [
      "metadata matrix saved.\n"
     ]
    },
    {
     "data": {
      "text/html": [
       "<div>\n",
       "<style scoped>\n",
       "    .dataframe tbody tr th:only-of-type {\n",
       "        vertical-align: middle;\n",
       "    }\n",
       "\n",
       "    .dataframe tbody tr th {\n",
       "        vertical-align: top;\n",
       "    }\n",
       "\n",
       "    .dataframe thead th {\n",
       "        text-align: right;\n",
       "    }\n",
       "</style>\n",
       "<table border=\"1\" class=\"dataframe\">\n",
       "  <thead>\n",
       "    <tr style=\"text-align: right;\">\n",
       "      <th></th>\n",
       "      <th>0</th>\n",
       "      <th>1</th>\n",
       "      <th>2</th>\n",
       "      <th>3</th>\n",
       "      <th>4</th>\n",
       "      <th>5</th>\n",
       "      <th>6</th>\n",
       "      <th>7</th>\n",
       "      <th>8</th>\n",
       "      <th>9</th>\n",
       "      <th>...</th>\n",
       "      <th>15</th>\n",
       "      <th>16</th>\n",
       "      <th>17</th>\n",
       "      <th>18</th>\n",
       "      <th>19</th>\n",
       "      <th>20</th>\n",
       "      <th>21</th>\n",
       "      <th>22</th>\n",
       "      <th>23</th>\n",
       "      <th>24</th>\n",
       "    </tr>\n",
       "  </thead>\n",
       "  <tbody>\n",
       "    <tr>\n",
       "      <th>Toy Story (1995)</th>\n",
       "      <td>0.102057</td>\n",
       "      <td>0.082978</td>\n",
       "      <td>0.069335</td>\n",
       "      <td>0.079509</td>\n",
       "      <td>-0.158595</td>\n",
       "      <td>0.010457</td>\n",
       "      <td>0.236075</td>\n",
       "      <td>-0.009400</td>\n",
       "      <td>-0.122104</td>\n",
       "      <td>-0.007205</td>\n",
       "      <td>...</td>\n",
       "      <td>-0.012900</td>\n",
       "      <td>-0.000725</td>\n",
       "      <td>-0.001497</td>\n",
       "      <td>-0.014337</td>\n",
       "      <td>-0.000455</td>\n",
       "      <td>7.683188e-06</td>\n",
       "      <td>0.000498</td>\n",
       "      <td>0.001523</td>\n",
       "      <td>0.003049</td>\n",
       "      <td>3.808858e-04</td>\n",
       "    </tr>\n",
       "    <tr>\n",
       "      <th>Jumanji (1995)</th>\n",
       "      <td>0.032439</td>\n",
       "      <td>0.008862</td>\n",
       "      <td>0.058857</td>\n",
       "      <td>0.083238</td>\n",
       "      <td>-0.113069</td>\n",
       "      <td>0.006432</td>\n",
       "      <td>0.189288</td>\n",
       "      <td>-0.006319</td>\n",
       "      <td>-0.075254</td>\n",
       "      <td>0.002481</td>\n",
       "      <td>...</td>\n",
       "      <td>0.077778</td>\n",
       "      <td>-0.001023</td>\n",
       "      <td>-0.000067</td>\n",
       "      <td>-0.008733</td>\n",
       "      <td>0.000022</td>\n",
       "      <td>-8.212691e-07</td>\n",
       "      <td>-0.000344</td>\n",
       "      <td>0.003193</td>\n",
       "      <td>0.000168</td>\n",
       "      <td>9.764093e-07</td>\n",
       "    </tr>\n",
       "    <tr>\n",
       "      <th>Grumpier Old Men (1995)</th>\n",
       "      <td>0.148065</td>\n",
       "      <td>0.105199</td>\n",
       "      <td>-0.043035</td>\n",
       "      <td>0.129036</td>\n",
       "      <td>0.089151</td>\n",
       "      <td>-0.036802</td>\n",
       "      <td>-0.011756</td>\n",
       "      <td>0.000640</td>\n",
       "      <td>0.004622</td>\n",
       "      <td>-0.002389</td>\n",
       "      <td>...</td>\n",
       "      <td>0.003114</td>\n",
       "      <td>-0.000981</td>\n",
       "      <td>-0.000730</td>\n",
       "      <td>0.000572</td>\n",
       "      <td>0.000090</td>\n",
       "      <td>-1.692783e-06</td>\n",
       "      <td>0.000041</td>\n",
       "      <td>-0.000370</td>\n",
       "      <td>-0.000193</td>\n",
       "      <td>-3.689707e-04</td>\n",
       "    </tr>\n",
       "    <tr>\n",
       "      <th>Waiting to Exhale (1995)</th>\n",
       "      <td>0.826327</td>\n",
       "      <td>0.065701</td>\n",
       "      <td>-0.292544</td>\n",
       "      <td>0.395697</td>\n",
       "      <td>0.244308</td>\n",
       "      <td>-0.073107</td>\n",
       "      <td>-0.045514</td>\n",
       "      <td>-0.000915</td>\n",
       "      <td>0.027719</td>\n",
       "      <td>-0.001197</td>\n",
       "      <td>...</td>\n",
       "      <td>0.012878</td>\n",
       "      <td>-0.005151</td>\n",
       "      <td>-0.006726</td>\n",
       "      <td>0.002409</td>\n",
       "      <td>-0.000168</td>\n",
       "      <td>-6.123200e-06</td>\n",
       "      <td>-0.000830</td>\n",
       "      <td>-0.001249</td>\n",
       "      <td>-0.000960</td>\n",
       "      <td>-1.620491e-03</td>\n",
       "    </tr>\n",
       "    <tr>\n",
       "      <th>Father of the Bride Part II (1995)</th>\n",
       "      <td>0.112884</td>\n",
       "      <td>0.121158</td>\n",
       "      <td>-0.006244</td>\n",
       "      <td>-0.037840</td>\n",
       "      <td>-0.004575</td>\n",
       "      <td>0.009908</td>\n",
       "      <td>-0.009223</td>\n",
       "      <td>-0.002305</td>\n",
       "      <td>0.003880</td>\n",
       "      <td>-0.011430</td>\n",
       "      <td>...</td>\n",
       "      <td>-0.001814</td>\n",
       "      <td>-0.000524</td>\n",
       "      <td>-0.000250</td>\n",
       "      <td>0.000485</td>\n",
       "      <td>0.000216</td>\n",
       "      <td>-7.303481e-07</td>\n",
       "      <td>0.044506</td>\n",
       "      <td>0.000045</td>\n",
       "      <td>-0.017100</td>\n",
       "      <td>7.116062e-05</td>\n",
       "    </tr>\n",
       "    <tr>\n",
       "      <th>...</th>\n",
       "      <td>...</td>\n",
       "      <td>...</td>\n",
       "      <td>...</td>\n",
       "      <td>...</td>\n",
       "      <td>...</td>\n",
       "      <td>...</td>\n",
       "      <td>...</td>\n",
       "      <td>...</td>\n",
       "      <td>...</td>\n",
       "      <td>...</td>\n",
       "      <td>...</td>\n",
       "      <td>...</td>\n",
       "      <td>...</td>\n",
       "      <td>...</td>\n",
       "      <td>...</td>\n",
       "      <td>...</td>\n",
       "      <td>...</td>\n",
       "      <td>...</td>\n",
       "      <td>...</td>\n",
       "      <td>...</td>\n",
       "      <td>...</td>\n",
       "    </tr>\n",
       "    <tr>\n",
       "      <th>Black Butler: Book of the Atlantic (2017)</th>\n",
       "      <td>0.328795</td>\n",
       "      <td>0.223063</td>\n",
       "      <td>0.299261</td>\n",
       "      <td>0.134594</td>\n",
       "      <td>-0.341038</td>\n",
       "      <td>-0.100190</td>\n",
       "      <td>0.314460</td>\n",
       "      <td>-0.016044</td>\n",
       "      <td>0.045904</td>\n",
       "      <td>0.079411</td>\n",
       "      <td>...</td>\n",
       "      <td>-0.359927</td>\n",
       "      <td>0.011187</td>\n",
       "      <td>-0.004357</td>\n",
       "      <td>-0.042689</td>\n",
       "      <td>0.001864</td>\n",
       "      <td>-2.815040e-07</td>\n",
       "      <td>-0.000270</td>\n",
       "      <td>-0.000569</td>\n",
       "      <td>0.000365</td>\n",
       "      <td>1.503521e-04</td>\n",
       "    </tr>\n",
       "    <tr>\n",
       "      <th>No Game No Life: Zero (2017)</th>\n",
       "      <td>0.296315</td>\n",
       "      <td>0.276134</td>\n",
       "      <td>0.097567</td>\n",
       "      <td>0.092715</td>\n",
       "      <td>-0.237126</td>\n",
       "      <td>0.056310</td>\n",
       "      <td>0.403863</td>\n",
       "      <td>-0.017999</td>\n",
       "      <td>-0.240101</td>\n",
       "      <td>0.017182</td>\n",
       "      <td>...</td>\n",
       "      <td>-0.433131</td>\n",
       "      <td>0.017591</td>\n",
       "      <td>-0.006856</td>\n",
       "      <td>-0.036130</td>\n",
       "      <td>-0.002040</td>\n",
       "      <td>-2.293887e-06</td>\n",
       "      <td>-0.000618</td>\n",
       "      <td>-0.000780</td>\n",
       "      <td>0.000375</td>\n",
       "      <td>1.818285e-04</td>\n",
       "    </tr>\n",
       "    <tr>\n",
       "      <th>Flint (2017)</th>\n",
       "      <td>0.634471</td>\n",
       "      <td>-0.666045</td>\n",
       "      <td>-0.296815</td>\n",
       "      <td>-0.141003</td>\n",
       "      <td>-0.159669</td>\n",
       "      <td>0.125312</td>\n",
       "      <td>-0.007500</td>\n",
       "      <td>-0.006856</td>\n",
       "      <td>0.024010</td>\n",
       "      <td>0.015715</td>\n",
       "      <td>...</td>\n",
       "      <td>0.003838</td>\n",
       "      <td>-0.003574</td>\n",
       "      <td>-0.008873</td>\n",
       "      <td>0.000841</td>\n",
       "      <td>-0.001036</td>\n",
       "      <td>-4.896279e-07</td>\n",
       "      <td>-0.002043</td>\n",
       "      <td>-0.000085</td>\n",
       "      <td>-0.000704</td>\n",
       "      <td>-9.050372e-04</td>\n",
       "    </tr>\n",
       "    <tr>\n",
       "      <th>Bungo Stray Dogs: Dead Apple (2018)</th>\n",
       "      <td>0.113148</td>\n",
       "      <td>-0.011226</td>\n",
       "      <td>0.338446</td>\n",
       "      <td>0.153608</td>\n",
       "      <td>-0.322290</td>\n",
       "      <td>-0.186237</td>\n",
       "      <td>0.176712</td>\n",
       "      <td>-0.007477</td>\n",
       "      <td>0.143238</td>\n",
       "      <td>0.098628</td>\n",
       "      <td>...</td>\n",
       "      <td>-0.463458</td>\n",
       "      <td>0.006346</td>\n",
       "      <td>-0.004429</td>\n",
       "      <td>-0.031930</td>\n",
       "      <td>0.001815</td>\n",
       "      <td>2.527381e-06</td>\n",
       "      <td>0.000566</td>\n",
       "      <td>0.000247</td>\n",
       "      <td>-0.000121</td>\n",
       "      <td>2.727549e-05</td>\n",
       "    </tr>\n",
       "    <tr>\n",
       "      <th>Andrew Dice Clay: Dice Rules (1991)</th>\n",
       "      <td>0.658402</td>\n",
       "      <td>0.708755</td>\n",
       "      <td>-0.037575</td>\n",
       "      <td>-0.223219</td>\n",
       "      <td>-0.030538</td>\n",
       "      <td>0.056668</td>\n",
       "      <td>-0.056495</td>\n",
       "      <td>-0.013254</td>\n",
       "      <td>0.022382</td>\n",
       "      <td>-0.062685</td>\n",
       "      <td>...</td>\n",
       "      <td>-0.011341</td>\n",
       "      <td>-0.001778</td>\n",
       "      <td>-0.000728</td>\n",
       "      <td>0.003161</td>\n",
       "      <td>0.001860</td>\n",
       "      <td>-4.835742e-06</td>\n",
       "      <td>-0.000404</td>\n",
       "      <td>-0.000958</td>\n",
       "      <td>-0.000335</td>\n",
       "      <td>-1.100161e-04</td>\n",
       "    </tr>\n",
       "  </tbody>\n",
       "</table>\n",
       "<p>9724 rows × 25 columns</p>\n",
       "</div>"
      ],
      "text/plain": [
       "                                                 0         1         2   \\\n",
       "Toy Story (1995)                           0.102057  0.082978  0.069335   \n",
       "Jumanji (1995)                             0.032439  0.008862  0.058857   \n",
       "Grumpier Old Men (1995)                    0.148065  0.105199 -0.043035   \n",
       "Waiting to Exhale (1995)                   0.826327  0.065701 -0.292544   \n",
       "Father of the Bride Part II (1995)         0.112884  0.121158 -0.006244   \n",
       "...                                             ...       ...       ...   \n",
       "Black Butler: Book of the Atlantic (2017)  0.328795  0.223063  0.299261   \n",
       "No Game No Life: Zero (2017)               0.296315  0.276134  0.097567   \n",
       "Flint (2017)                               0.634471 -0.666045 -0.296815   \n",
       "Bungo Stray Dogs: Dead Apple (2018)        0.113148 -0.011226  0.338446   \n",
       "Andrew Dice Clay: Dice Rules (1991)        0.658402  0.708755 -0.037575   \n",
       "\n",
       "                                                 3         4         5   \\\n",
       "Toy Story (1995)                           0.079509 -0.158595  0.010457   \n",
       "Jumanji (1995)                             0.083238 -0.113069  0.006432   \n",
       "Grumpier Old Men (1995)                    0.129036  0.089151 -0.036802   \n",
       "Waiting to Exhale (1995)                   0.395697  0.244308 -0.073107   \n",
       "Father of the Bride Part II (1995)        -0.037840 -0.004575  0.009908   \n",
       "...                                             ...       ...       ...   \n",
       "Black Butler: Book of the Atlantic (2017)  0.134594 -0.341038 -0.100190   \n",
       "No Game No Life: Zero (2017)               0.092715 -0.237126  0.056310   \n",
       "Flint (2017)                              -0.141003 -0.159669  0.125312   \n",
       "Bungo Stray Dogs: Dead Apple (2018)        0.153608 -0.322290 -0.186237   \n",
       "Andrew Dice Clay: Dice Rules (1991)       -0.223219 -0.030538  0.056668   \n",
       "\n",
       "                                                 6         7         8   \\\n",
       "Toy Story (1995)                           0.236075 -0.009400 -0.122104   \n",
       "Jumanji (1995)                             0.189288 -0.006319 -0.075254   \n",
       "Grumpier Old Men (1995)                   -0.011756  0.000640  0.004622   \n",
       "Waiting to Exhale (1995)                  -0.045514 -0.000915  0.027719   \n",
       "Father of the Bride Part II (1995)        -0.009223 -0.002305  0.003880   \n",
       "...                                             ...       ...       ...   \n",
       "Black Butler: Book of the Atlantic (2017)  0.314460 -0.016044  0.045904   \n",
       "No Game No Life: Zero (2017)               0.403863 -0.017999 -0.240101   \n",
       "Flint (2017)                              -0.007500 -0.006856  0.024010   \n",
       "Bungo Stray Dogs: Dead Apple (2018)        0.176712 -0.007477  0.143238   \n",
       "Andrew Dice Clay: Dice Rules (1991)       -0.056495 -0.013254  0.022382   \n",
       "\n",
       "                                                 9   ...        15        16  \\\n",
       "Toy Story (1995)                          -0.007205  ... -0.012900 -0.000725   \n",
       "Jumanji (1995)                             0.002481  ...  0.077778 -0.001023   \n",
       "Grumpier Old Men (1995)                   -0.002389  ...  0.003114 -0.000981   \n",
       "Waiting to Exhale (1995)                  -0.001197  ...  0.012878 -0.005151   \n",
       "Father of the Bride Part II (1995)        -0.011430  ... -0.001814 -0.000524   \n",
       "...                                             ...  ...       ...       ...   \n",
       "Black Butler: Book of the Atlantic (2017)  0.079411  ... -0.359927  0.011187   \n",
       "No Game No Life: Zero (2017)               0.017182  ... -0.433131  0.017591   \n",
       "Flint (2017)                               0.015715  ...  0.003838 -0.003574   \n",
       "Bungo Stray Dogs: Dead Apple (2018)        0.098628  ... -0.463458  0.006346   \n",
       "Andrew Dice Clay: Dice Rules (1991)       -0.062685  ... -0.011341 -0.001778   \n",
       "\n",
       "                                                 17        18        19  \\\n",
       "Toy Story (1995)                          -0.001497 -0.014337 -0.000455   \n",
       "Jumanji (1995)                            -0.000067 -0.008733  0.000022   \n",
       "Grumpier Old Men (1995)                   -0.000730  0.000572  0.000090   \n",
       "Waiting to Exhale (1995)                  -0.006726  0.002409 -0.000168   \n",
       "Father of the Bride Part II (1995)        -0.000250  0.000485  0.000216   \n",
       "...                                             ...       ...       ...   \n",
       "Black Butler: Book of the Atlantic (2017) -0.004357 -0.042689  0.001864   \n",
       "No Game No Life: Zero (2017)              -0.006856 -0.036130 -0.002040   \n",
       "Flint (2017)                              -0.008873  0.000841 -0.001036   \n",
       "Bungo Stray Dogs: Dead Apple (2018)       -0.004429 -0.031930  0.001815   \n",
       "Andrew Dice Clay: Dice Rules (1991)       -0.000728  0.003161  0.001860   \n",
       "\n",
       "                                                     20        21        22  \\\n",
       "Toy Story (1995)                           7.683188e-06  0.000498  0.001523   \n",
       "Jumanji (1995)                            -8.212691e-07 -0.000344  0.003193   \n",
       "Grumpier Old Men (1995)                   -1.692783e-06  0.000041 -0.000370   \n",
       "Waiting to Exhale (1995)                  -6.123200e-06 -0.000830 -0.001249   \n",
       "Father of the Bride Part II (1995)        -7.303481e-07  0.044506  0.000045   \n",
       "...                                                 ...       ...       ...   \n",
       "Black Butler: Book of the Atlantic (2017) -2.815040e-07 -0.000270 -0.000569   \n",
       "No Game No Life: Zero (2017)              -2.293887e-06 -0.000618 -0.000780   \n",
       "Flint (2017)                              -4.896279e-07 -0.002043 -0.000085   \n",
       "Bungo Stray Dogs: Dead Apple (2018)        2.527381e-06  0.000566  0.000247   \n",
       "Andrew Dice Clay: Dice Rules (1991)       -4.835742e-06 -0.000404 -0.000958   \n",
       "\n",
       "                                                 23            24  \n",
       "Toy Story (1995)                           0.003049  3.808858e-04  \n",
       "Jumanji (1995)                             0.000168  9.764093e-07  \n",
       "Grumpier Old Men (1995)                   -0.000193 -3.689707e-04  \n",
       "Waiting to Exhale (1995)                  -0.000960 -1.620491e-03  \n",
       "Father of the Bride Part II (1995)        -0.017100  7.116062e-05  \n",
       "...                                             ...           ...  \n",
       "Black Butler: Book of the Atlantic (2017)  0.000365  1.503521e-04  \n",
       "No Game No Life: Zero (2017)               0.000375  1.818285e-04  \n",
       "Flint (2017)                              -0.000704 -9.050372e-04  \n",
       "Bungo Stray Dogs: Dead Apple (2018)       -0.000121  2.727549e-05  \n",
       "Andrew Dice Clay: Dice Rules (1991)       -0.000335 -1.100161e-04  \n",
       "\n",
       "[9724 rows x 25 columns]"
      ]
     },
     "execution_count": 53,
     "metadata": {},
     "output_type": "execute_result"
    }
   ],
   "source": [
    "gcp.get_matrix(\"metadata\")"
   ]
  },
  {
   "cell_type": "code",
   "execution_count": 54,
   "metadata": {
    "hidden": true,
    "scrolled": true
   },
   "outputs": [
    {
     "name": "stdout",
     "output_type": "stream",
     "text": [
      "metadata_latent_matrix.joblib removed.\n"
     ]
    }
   ],
   "source": [
    "gcp.clean_matrix()"
   ]
  },
  {
   "cell_type": "code",
   "execution_count": 50,
   "metadata": {
    "hidden": true,
    "scrolled": false
   },
   "outputs": [
    {
     "name": "stdout",
     "output_type": "stream",
     "text": [
      "metadata_latent_matrix.joblib\n"
     ]
    }
   ],
   "source": [
    "for f in os.listdir():\n",
    "    if f.endswith(\".joblib\"):\n",
    "        print(f)"
   ]
  },
  {
   "cell_type": "markdown",
   "metadata": {
    "heading_collapsed": true
   },
   "source": [
    "## Test recommender.py"
   ]
  },
  {
   "cell_type": "code",
   "execution_count": 2,
   "metadata": {
    "hidden": true
   },
   "outputs": [],
   "source": [
    "from MovieRecommendation.recommender import Recommender"
   ]
  },
  {
   "cell_type": "code",
   "execution_count": 76,
   "metadata": {
    "hidden": true
   },
   "outputs": [],
   "source": [
    "samples= \"Toy Story (1995), 'Juman, ji (1995)'\""
   ]
  },
  {
   "cell_type": "code",
   "execution_count": 89,
   "metadata": {
    "hidden": true
   },
   "outputs": [],
   "source": [
    "samples = \"'JSONE,TON', 'TONBW, DON'\""
   ]
  },
  {
   "cell_type": "code",
   "execution_count": 90,
   "metadata": {
    "hidden": true
   },
   "outputs": [],
   "source": [
    "import re\n",
    "re.split(r''', (?='|\")''', samples)"
   ]
  },
  {
   "cell_type": "code",
   "execution_count": 27,
   "metadata": {
    "hidden": true
   },
   "outputs": [],
   "source": [
    "sample = Recommender(samples, basis=\"metadata\")"
   ]
  },
  {
   "cell_type": "code",
   "execution_count": 28,
   "metadata": {
    "hidden": true
   },
   "outputs": [
    {
     "name": "stdout",
     "output_type": "stream",
     "text": [
      "matrix exists.\n",
      "matrix exists.\n",
      "metadata_latent_matrix.joblib removed.\n"
     ]
    },
    {
     "data": {
      "text/plain": [
       "Shrek the Third (2007)            0.882521\n",
       "Tale of Despereaux, The (2008)    0.882521\n",
       "Antz (1998)                       0.882521\n",
       "Turbo (2013)                      0.882521\n",
       "Name: similarity, dtype: float64"
      ]
     },
     "execution_count": 28,
     "metadata": {},
     "output_type": "execute_result"
    }
   ],
   "source": [
    "sample.get_recommendation(4)"
   ]
  },
  {
   "cell_type": "code",
   "execution_count": 29,
   "metadata": {
    "hidden": true,
    "scrolled": true
   },
   "outputs": [
    {
     "name": "stdout",
     "output_type": "stream",
     "text": [
      "metadata matrix saved.\n",
      "matrix exists.\n",
      "metadata_latent_matrix.joblib removed.\n"
     ]
    },
    {
     "data": {
      "text/plain": [
       "Shrek the Third (2007)            0.882521\n",
       "Tale of Despereaux, The (2008)    0.882521\n",
       "Antz (1998)                       0.882521\n",
       "Name: similarity, dtype: float64"
      ]
     },
     "execution_count": 29,
     "metadata": {},
     "output_type": "execute_result"
    }
   ],
   "source": [
    "sample.get_recommendation()"
   ]
  },
  {
   "cell_type": "markdown",
   "metadata": {},
   "source": [
    "## Test API"
   ]
  },
  {
   "cell_type": "code",
   "execution_count": 25,
   "metadata": {},
   "outputs": [
    {
     "data": {
      "text/plain": [
       "{'basis': 'hybrid',\n",
       " 'recommendations': [{'ranking': 1,\n",
       "   'name': 'Flipper (1996)',\n",
       "   'similarity': 0.3990065837093712}]}"
      ]
     },
     "execution_count": 25,
     "metadata": {},
     "output_type": "execute_result"
    }
   ],
   "source": [
    "import requests\n",
    "url = \"https://movie-recommender-5i6qxbf74a-ez.a.run.app/recommendation/\"\n",
    "\n",
    "samples=\"Jumanji (1995), 'Tom and Huck (1995), 'Father of the Bride Part II (1995), 'Up Close and Personal (1996)\"\n",
    "params = dict(samples=samples,\n",
    "                      n_movies=1)\n",
    "response = requests.get(url, params=params)\n",
    "response.json()"
   ]
  },
  {
   "cell_type": "code",
   "execution_count": 8,
   "metadata": {
    "scrolled": true
   },
   "outputs": [
    {
     "data": {
      "text/plain": [
       "{'basis': 'hybrid',\n",
       " 'recommendations': [{'ranking': 1,\n",
       "   'name': 'Toy Story 2 (1999)',\n",
       "   'similarity': 0.793463938877209},\n",
       "  {'ranking': 2,\n",
       "   'name': 'Monsters, Inc. (2001)',\n",
       "   'similarity': 0.776562140070248},\n",
       "  {'ranking': 3, 'name': 'Shrek (2001)', 'similarity': 0.758907393007771}]}"
      ]
     },
     "execution_count": 8,
     "metadata": {},
     "output_type": "execute_result"
    }
   ],
   "source": [
    "url = \"https://movie-recommender-5i6qxbf74a-ez.a.run.app/recommendation/?samples=Toy%20Story%20%281995%29&basis=hybrid&n_movies=3\"\n",
    "requests.get(url).json()"
   ]
  },
  {
   "cell_type": "code",
   "execution_count": 26,
   "metadata": {},
   "outputs": [
    {
     "name": "stdout",
     "output_type": "stream",
     "text": [
      "Hello\n",
      "World!\n"
     ]
    }
   ],
   "source": [
    "print(f\"Hello\\nWorld!\")"
   ]
  },
  {
   "cell_type": "markdown",
   "metadata": {},
   "source": [
    "## poster api"
   ]
  },
  {
   "cell_type": "code",
   "execution_count": 55,
   "metadata": {},
   "outputs": [],
   "source": [
    "import requests\n",
    "from PIL import Image\n",
    "\n",
    "params=dict(\n",
    "apikey=\"c30da1bc\",\n",
    "t='Shawshank Redemption')\n",
    "url=\"http://www.omdbapi.com\"\n",
    "response=requests.get(url, params=params).json()\n",
    "poster_url=response['Poster']\n",
    "\n",
    "im = Image.open(requests.get(poster_url, stream=True).raw)\n",
    "im"
   ]
  },
  {
   "cell_type": "code",
   "execution_count": 63,
   "metadata": {},
   "outputs": [],
   "source": [
    "import re\n",
    "def format_name(name):\n",
    "    import re\n",
    "    info={}\n",
    "    if \", The (\" in name:        \n",
    "        info[\"title\"] = re.sub(r\", The \\(\\d+\\)\", \"\", name).strip()\n",
    "    else:\n",
    "        info[\"title\"] = name.split(\" (\")[0].strip()\n",
    "    info[\"year\"] = name.split(\"(\")[-1][-5:-1]\n",
    "    return info"
   ]
  },
  {
   "cell_type": "code",
   "execution_count": 69,
   "metadata": {},
   "outputs": [
    {
     "data": {
      "image/png": "[encoded data removed]",
      "text/plain": [
       "<PIL.JpegImagePlugin.JpegImageFile image mode=RGB size=300x398 at 0x112887EE0>"
      ]
     },
     "execution_count": 69,
     "metadata": {},
     "output_type": "execute_result"
    }
   ],
   "source": [
    "name=\"Shawshank Redemption, The (1994)\"\n",
    "name='Jumanji (1995)'\n",
    "params=dict(\n",
    "apikey=\"c30da1bc\",\n",
    "t=format_name(name)[\"title\"],\n",
    "y=format_name(name)[\"year\"])\n",
    "url=\"http://www.omdbapi.com\"\n",
    "response=requests.get(url, params=params).json()\n",
    "poster_url=response['Poster']\n",
    "Image.open(requests.get(poster_url, stream=True).raw)"
   ]
  },
  {
   "cell_type": "code",
   "execution_count": 61,
   "metadata": {},
   "outputs": [
    {
     "data": {
      "text/plain": [
       "'Shawshank Redemption'"
      ]
     },
     "execution_count": 61,
     "metadata": {},
     "output_type": "execute_result"
    }
   ],
   "source": [
    "name.replace(\", The (1994)\", \"\")"
   ]
  },
  {
   "cell_type": "code",
   "execution_count": 62,
   "metadata": {},
   "outputs": [
    {
     "data": {
      "text/plain": [
       "'Shawshank Redemption'"
      ]
     },
     "execution_count": 62,
     "metadata": {},
     "output_type": "execute_result"
    }
   ],
   "source": [
    "re.sub(r\", The \\(\\d+\\)\", \"\", name)"
   ]
  },
  {
   "cell_type": "code",
   "execution_count": null,
   "metadata": {},
   "outputs": [],
   "source": [
    "from Pa"
   ]
  }
 ],
 "metadata": {
  "kernelspec": {
   "display_name": "Python 3",
   "language": "python",
   "name": "python3"
  },
  "language_info": {
   "codemirror_mode": {
    "name": "ipython",
    "version": 3
   },
   "file_extension": ".py",
   "mimetype": "text/x-python",
   "name": "python",
   "nbconvert_exporter": "python",
   "pygments_lexer": "ipython3",
   "version": "3.7.3"
  },
  "toc": {
   "base_numbering": 1,
   "nav_menu": {},
   "number_sections": true,
   "sideBar": true,
   "skip_h1_title": true,
   "title_cell": "Table of Contents",
   "title_sidebar": "Contents",
   "toc_cell": false,
   "toc_position": {},
   "toc_section_display": true,
   "toc_window_display": true
  }
 },
 "nbformat": 4,
 "nbformat_minor": 4
}
